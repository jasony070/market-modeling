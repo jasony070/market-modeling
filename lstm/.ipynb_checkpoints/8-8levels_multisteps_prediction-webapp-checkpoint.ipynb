{
 "cells": [
  {
   "cell_type": "code",
   "execution_count": 1,
   "metadata": {},
   "outputs": [
    {
     "name": "stderr",
     "output_type": "stream",
     "text": [
      "Using TensorFlow backend.\n"
     ]
    },
    {
     "data": {
      "text/html": [
       "<script type=\"text/javascript\">window.PlotlyConfig = {MathJaxConfig: 'local'};</script><script type=\"text/javascript\">if (window.MathJax) {MathJax.Hub.Config({SVG: {font: \"STIX-Web\"}});}</script><script>requirejs.config({paths: { 'plotly': ['https://cdn.plot.ly/plotly-latest.min']},});if(!window._Plotly) {require(['plotly'],function(plotly) {window._Plotly=plotly;});}</script>"
      ],
      "text/vnd.plotly.v1+html": [
       "<script type=\"text/javascript\">window.PlotlyConfig = {MathJaxConfig: 'local'};</script><script type=\"text/javascript\">if (window.MathJax) {MathJax.Hub.Config({SVG: {font: \"STIX-Web\"}});}</script><script>requirejs.config({paths: { 'plotly': ['https://cdn.plot.ly/plotly-latest.min']},});if(!window._Plotly) {require(['plotly'],function(plotly) {window._Plotly=plotly;});}</script>"
      ]
     },
     "metadata": {},
     "output_type": "display_data"
    }
   ],
   "source": [
    "from math import sqrt\n",
    "from numpy import concatenate\n",
    "from matplotlib import pyplot\n",
    "import pandas as pd\n",
    "from datetime import datetime\n",
    "from sklearn.preprocessing import MinMaxScaler\n",
    "from sklearn.preprocessing import LabelEncoder\n",
    "from sklearn.metrics import mean_squared_error\n",
    "from keras.models import Sequential\n",
    "from keras.layers import Dense, Activation, Dropout\n",
    "from keras.layers import LSTM\n",
    "import plotly.offline as py\n",
    "import plotly.graph_objs as go\n",
    "import numpy as np\n",
    "import seaborn as sns\n",
    "from keras.optimizers import RMSprop, Adam, SGD, Nadam\n",
    "from keras import backend as K\n",
    "from keras.layers import Dense, LSTM, TimeDistributed\n",
    "py.init_notebook_mode(connected=True)\n",
    "%matplotlib inline"
   ]
  },
  {
   "cell_type": "code",
   "execution_count": 2,
   "metadata": {},
   "outputs": [],
   "source": [
    "data = pd.read_csv(filepath_or_buffer=\"./Data/clean_data.csv\", index_col=\"date\")"
   ]
  },
  {
   "cell_type": "code",
   "execution_count": 3,
   "metadata": {},
   "outputs": [],
   "source": [
    "data = data.apply(pd.to_numeric, errors = \"coerce\")"
   ]
  },
  {
   "cell_type": "code",
   "execution_count": 4,
   "metadata": {},
   "outputs": [],
   "source": [
    "data['spindx'].replace(0, np.nan, inplace=True)\n",
    "data['spindx'].fillna(method='ffill', inplace=True)"
   ]
  },
  {
   "cell_type": "code",
   "execution_count": 5,
   "metadata": {},
   "outputs": [],
   "source": [
    "from sklearn.preprocessing import MinMaxScaler"
   ]
  },
  {
   "cell_type": "markdown",
   "metadata": {},
   "source": [
    "# MULTIVARIATE PREDICTION (WITH LOOKBACK AND TIMESTEPS)"
   ]
  },
  {
   "cell_type": "code",
   "execution_count": 6,
   "metadata": {},
   "outputs": [],
   "source": [
    "def series_to_supervised(data, n_in=1, n_out=1, dropnan=True):\n",
    "    n_vars = 1 if type(data) is list else data.shape[1]\n",
    "    df = pd.DataFrame(data)\n",
    "    cols, names = list(), list()\n",
    "    # input sequence (t-n, ... t-1)\n",
    "    for i in range(n_in, 0, -1):\n",
    "        cols.append(df.shift(i))\n",
    "        names += [('var%d(t-%d)' % (j+1, i)) for j in range(n_vars)]\n",
    "    # forecast sequence (t, t+1, ... t+n)\n",
    "    for i in range(0, n_out):\n",
    "        cols.append(df.shift(-i))\n",
    "        if i == 0:\n",
    "            names += [('var%d(t)' % (j+1)) for j in range(n_vars)]\n",
    "        else:\n",
    "            names += [('var%d(t+%d)' % (j+1, i)) for j in range(n_vars)]\n",
    "    # put it all together\n",
    "    agg = pd.concat(cols, axis=1)\n",
    "    agg.columns = names\n",
    "    # drop rows with NaN values\n",
    "    if dropnan:\n",
    "        agg.dropna(inplace=True)\n",
    "    return agg"
   ]
  },
  {
   "cell_type": "code",
   "execution_count": 7,
   "metadata": {
    "scrolled": true
   },
   "outputs": [
    {
     "data": {
      "text/plain": [
       "Index(['TCMNOM_Y2', 'TCMNOM_Y10', 'DCOILBRENTEU', 'spindx', 'GOLDPMGBD228NLBM',\n",
       "       'exalus', 'exjpus', 'exukus'],\n",
       "      dtype='object')"
      ]
     },
     "execution_count": 7,
     "metadata": {},
     "output_type": "execute_result"
    }
   ],
   "source": [
    "data.columns"
   ]
  },
  {
   "cell_type": "code",
   "execution_count": 8,
   "metadata": {},
   "outputs": [],
   "source": [
    "number_of_variables = 8\n",
    "values = data[['spindx'] + ['TCMNOM_Y2'] + ['TCMNOM_Y10'] + ['DCOILBRENTEU'] + ['GOLDPMGBD228NLBM'] + ['exalus'] + ['exjpus'] + ['exukus']].values\n",
    "values = values.astype('float32')"
   ]
  },
  {
   "cell_type": "code",
   "execution_count": 9,
   "metadata": {},
   "outputs": [],
   "source": [
    "historic_data = np.array([])\n",
    "for day in values[-10:]:\n",
    "    historic_data = np.concatenate((historic_data, day), axis=None)"
   ]
  },
  {
   "cell_type": "code",
   "execution_count": 10,
   "metadata": {},
   "outputs": [],
   "source": [
    "historic_data = np.append (historic_data, historic_data)"
   ]
  },
  {
   "cell_type": "code",
   "execution_count": 11,
   "metadata": {},
   "outputs": [
    {
     "data": {
      "text/plain": [
       "(160,)"
      ]
     },
     "execution_count": 11,
     "metadata": {},
     "output_type": "execute_result"
    }
   ],
   "source": [
    "historic_data.shape"
   ]
  },
  {
   "cell_type": "code",
   "execution_count": 12,
   "metadata": {},
   "outputs": [
    {
     "data": {
      "text/html": [
       "<div>\n",
       "<style scoped>\n",
       "    .dataframe tbody tr th:only-of-type {\n",
       "        vertical-align: middle;\n",
       "    }\n",
       "\n",
       "    .dataframe tbody tr th {\n",
       "        vertical-align: top;\n",
       "    }\n",
       "\n",
       "    .dataframe thead th {\n",
       "        text-align: right;\n",
       "    }\n",
       "</style>\n",
       "<table border=\"1\" class=\"dataframe\">\n",
       "  <thead>\n",
       "    <tr style=\"text-align: right;\">\n",
       "      <th></th>\n",
       "      <th>var1(t-10)</th>\n",
       "      <th>var2(t-10)</th>\n",
       "      <th>var3(t-10)</th>\n",
       "      <th>var4(t-10)</th>\n",
       "      <th>var5(t-10)</th>\n",
       "      <th>var6(t-10)</th>\n",
       "      <th>var7(t-10)</th>\n",
       "      <th>var8(t-10)</th>\n",
       "      <th>var1(t-9)</th>\n",
       "      <th>var2(t-9)</th>\n",
       "      <th>...</th>\n",
       "      <th>var7(t+8)</th>\n",
       "      <th>var8(t+8)</th>\n",
       "      <th>var1(t+9)</th>\n",
       "      <th>var2(t+9)</th>\n",
       "      <th>var3(t+9)</th>\n",
       "      <th>var4(t+9)</th>\n",
       "      <th>var5(t+9)</th>\n",
       "      <th>var6(t+9)</th>\n",
       "      <th>var7(t+9)</th>\n",
       "      <th>var8(t+9)</th>\n",
       "    </tr>\n",
       "  </thead>\n",
       "  <tbody>\n",
       "    <tr>\n",
       "      <th>7917</th>\n",
       "      <td>2923.429932</td>\n",
       "      <td>2.82</td>\n",
       "      <td>3.05</td>\n",
       "      <td>85.629997</td>\n",
       "      <td>1204.699951</td>\n",
       "      <td>1.3891</td>\n",
       "      <td>113.660004</td>\n",
       "      <td>0.7702</td>\n",
       "      <td>2925.510010</td>\n",
       "      <td>2.85</td>\n",
       "      <td>...</td>\n",
       "      <td>111.650002</td>\n",
       "      <td>0.7797</td>\n",
       "      <td>2641.250000</td>\n",
       "      <td>2.81</td>\n",
       "      <td>3.08</td>\n",
       "      <td>77.559998</td>\n",
       "      <td>1230.800049</td>\n",
       "      <td>1.4136</td>\n",
       "      <td>112.489998</td>\n",
       "      <td>0.7808</td>\n",
       "    </tr>\n",
       "    <tr>\n",
       "      <th>7918</th>\n",
       "      <td>2925.510010</td>\n",
       "      <td>2.85</td>\n",
       "      <td>3.15</td>\n",
       "      <td>85.449997</td>\n",
       "      <td>1201.199951</td>\n",
       "      <td>1.4010</td>\n",
       "      <td>114.190002</td>\n",
       "      <td>0.7696</td>\n",
       "      <td>2901.610107</td>\n",
       "      <td>2.87</td>\n",
       "      <td>...</td>\n",
       "      <td>112.489998</td>\n",
       "      <td>0.7808</td>\n",
       "      <td>2682.629883</td>\n",
       "      <td>2.84</td>\n",
       "      <td>3.12</td>\n",
       "      <td>75.680000</td>\n",
       "      <td>1225.400024</td>\n",
       "      <td>1.4061</td>\n",
       "      <td>112.760002</td>\n",
       "      <td>0.7855</td>\n",
       "    </tr>\n",
       "    <tr>\n",
       "      <th>7919</th>\n",
       "      <td>2901.610107</td>\n",
       "      <td>2.87</td>\n",
       "      <td>3.19</td>\n",
       "      <td>86.070000</td>\n",
       "      <td>1203.449951</td>\n",
       "      <td>1.4128</td>\n",
       "      <td>113.790001</td>\n",
       "      <td>0.7684</td>\n",
       "      <td>2885.570068</td>\n",
       "      <td>2.88</td>\n",
       "      <td>...</td>\n",
       "      <td>112.760002</td>\n",
       "      <td>0.7855</td>\n",
       "      <td>2711.739990</td>\n",
       "      <td>2.87</td>\n",
       "      <td>3.15</td>\n",
       "      <td>74.839996</td>\n",
       "      <td>1214.949951</td>\n",
       "      <td>1.4104</td>\n",
       "      <td>112.860001</td>\n",
       "      <td>0.7825</td>\n",
       "    </tr>\n",
       "    <tr>\n",
       "      <th>7920</th>\n",
       "      <td>2885.570068</td>\n",
       "      <td>2.88</td>\n",
       "      <td>3.23</td>\n",
       "      <td>85.120003</td>\n",
       "      <td>1203.800049</td>\n",
       "      <td>1.4188</td>\n",
       "      <td>113.559998</td>\n",
       "      <td>0.7633</td>\n",
       "      <td>2884.429932</td>\n",
       "      <td>2.88</td>\n",
       "      <td>...</td>\n",
       "      <td>112.860001</td>\n",
       "      <td>0.7825</td>\n",
       "      <td>2740.370117</td>\n",
       "      <td>2.84</td>\n",
       "      <td>3.14</td>\n",
       "      <td>71.250000</td>\n",
       "      <td>1231.150024</td>\n",
       "      <td>1.3910</td>\n",
       "      <td>112.790001</td>\n",
       "      <td>0.7708</td>\n",
       "    </tr>\n",
       "    <tr>\n",
       "      <th>7921</th>\n",
       "      <td>2884.429932</td>\n",
       "      <td>2.88</td>\n",
       "      <td>3.22</td>\n",
       "      <td>84.220001</td>\n",
       "      <td>1186.949951</td>\n",
       "      <td>1.4144</td>\n",
       "      <td>113.345001</td>\n",
       "      <td>0.7622</td>\n",
       "      <td>2880.340088</td>\n",
       "      <td>2.88</td>\n",
       "      <td>...</td>\n",
       "      <td>112.790001</td>\n",
       "      <td>0.7708</td>\n",
       "      <td>2723.060059</td>\n",
       "      <td>2.91</td>\n",
       "      <td>3.22</td>\n",
       "      <td>71.110001</td>\n",
       "      <td>1232.099976</td>\n",
       "      <td>1.3891</td>\n",
       "      <td>113.089996</td>\n",
       "      <td>0.7713</td>\n",
       "    </tr>\n",
       "  </tbody>\n",
       "</table>\n",
       "<p>5 rows × 160 columns</p>\n",
       "</div>"
      ],
      "text/plain": [
       "       var1(t-10)  var2(t-10)  var3(t-10)  var4(t-10)   var5(t-10)  \\\n",
       "7917  2923.429932        2.82        3.05   85.629997  1204.699951   \n",
       "7918  2925.510010        2.85        3.15   85.449997  1201.199951   \n",
       "7919  2901.610107        2.87        3.19   86.070000  1203.449951   \n",
       "7920  2885.570068        2.88        3.23   85.120003  1203.800049   \n",
       "7921  2884.429932        2.88        3.22   84.220001  1186.949951   \n",
       "\n",
       "      var6(t-10)  var7(t-10)  var8(t-10)    var1(t-9)  var2(t-9)  ...  \\\n",
       "7917      1.3891  113.660004      0.7702  2925.510010       2.85  ...   \n",
       "7918      1.4010  114.190002      0.7696  2901.610107       2.87  ...   \n",
       "7919      1.4128  113.790001      0.7684  2885.570068       2.88  ...   \n",
       "7920      1.4188  113.559998      0.7633  2884.429932       2.88  ...   \n",
       "7921      1.4144  113.345001      0.7622  2880.340088       2.88  ...   \n",
       "\n",
       "       var7(t+8)  var8(t+8)    var1(t+9)  var2(t+9)  var3(t+9)  var4(t+9)  \\\n",
       "7917  111.650002     0.7797  2641.250000       2.81       3.08  77.559998   \n",
       "7918  112.489998     0.7808  2682.629883       2.84       3.12  75.680000   \n",
       "7919  112.760002     0.7855  2711.739990       2.87       3.15  74.839996   \n",
       "7920  112.860001     0.7825  2740.370117       2.84       3.14  71.250000   \n",
       "7921  112.790001     0.7708  2723.060059       2.91       3.22  71.110001   \n",
       "\n",
       "        var5(t+9)  var6(t+9)   var7(t+9)  var8(t+9)  \n",
       "7917  1230.800049     1.4136  112.489998     0.7808  \n",
       "7918  1225.400024     1.4061  112.760002     0.7855  \n",
       "7919  1214.949951     1.4104  112.860001     0.7825  \n",
       "7920  1231.150024     1.3910  112.790001     0.7708  \n",
       "7921  1232.099976     1.3891  113.089996     0.7713  \n",
       "\n",
       "[5 rows x 160 columns]"
      ]
     },
     "execution_count": 12,
     "metadata": {},
     "output_type": "execute_result"
    }
   ],
   "source": [
    "look_back = 10\n",
    "time_steps = 10\n",
    "reframed = series_to_supervised(values, look_back, time_steps)\n",
    "reframed.tail()"
   ]
  },
  {
   "cell_type": "code",
   "execution_count": 13,
   "metadata": {},
   "outputs": [],
   "source": [
    "reframed = reframed.append(dict(zip(reframed.columns, historic_data)), ignore_index=True)"
   ]
  },
  {
   "cell_type": "code",
   "execution_count": 14,
   "metadata": {},
   "outputs": [],
   "source": [
    "scaler = MinMaxScaler(feature_range=(0, 1))\n",
    "scaled = scaler.fit_transform(reframed)"
   ]
  },
  {
   "cell_type": "code",
   "execution_count": 15,
   "metadata": {},
   "outputs": [
    {
     "data": {
      "text/plain": [
       "(80,)"
      ]
     },
     "execution_count": 15,
     "metadata": {},
     "output_type": "execute_result"
    }
   ],
   "source": [
    "scaled[-1][:-8 * time_steps].shape"
   ]
  },
  {
   "cell_type": "code",
   "execution_count": 16,
   "metadata": {},
   "outputs": [],
   "source": [
    "pred_para = scaled[-1][:-8 * time_steps]\n",
    "pred_para = pred_para.reshape(1,10,8)"
   ]
  },
  {
   "cell_type": "code",
   "execution_count": 17,
   "metadata": {},
   "outputs": [
    {
     "data": {
      "text/plain": [
       "(1, 10, 8)"
      ]
     },
     "execution_count": 17,
     "metadata": {},
     "output_type": "execute_result"
    }
   ],
   "source": [
    "pred_para.shape"
   ]
  },
  {
   "cell_type": "code",
   "execution_count": 18,
   "metadata": {},
   "outputs": [],
   "source": [
    "def stock_loss(y_true, y_pred):\n",
    "    alpha = 100.\n",
    "    loss = K.switch(K.less(y_true * y_pred, 0), \\\n",
    "        alpha*y_pred**2 - K.sign(y_true)*y_pred + K.abs(y_true), \\\n",
    "        K.abs(y_true - y_pred)\n",
    "        )\n",
    "    return 0.5 * K.mean(loss, axis=-1) + 0.5 * K.std(loss, axis=-1)"
   ]
  },
  {
   "cell_type": "code",
   "execution_count": 19,
   "metadata": {
    "scrolled": true
   },
   "outputs": [],
   "source": [
    "from keras.models import load_model\n",
    "#multi_model = load_model(\"market_lstm_model_multipredictionv1_weights.hdf5\", custom_objects={'stock_loss': stock_loss})\n",
    "multi_model = load_model(\"market_lstm_model_multipredictionMSE_weights.hdf5\", custom_objects={'stock_loss': stock_loss})\n",
    "\n",
    "yhat = multi_model.predict(pred_para)"
   ]
  },
  {
   "cell_type": "code",
   "execution_count": 20,
   "metadata": {},
   "outputs": [
    {
     "data": {
      "text/plain": [
       "(1, 10, 8)"
      ]
     },
     "execution_count": 20,
     "metadata": {},
     "output_type": "execute_result"
    }
   ],
   "source": [
    "yhat"
   ]
  },
  {
   "cell_type": "code",
   "execution_count": 21,
   "metadata": {},
   "outputs": [],
   "source": [
    "pred_para = pred_para.reshape((1,80))\n",
    "yhat = yhat.reshape((1,80))\n",
    "pred = concatenate((pred_para[:, :], yhat), axis=1)"
   ]
  },
  {
   "cell_type": "code",
   "execution_count": 22,
   "metadata": {},
   "outputs": [],
   "source": [
    "inv_pred = scaler.inverse_transform(pred)"
   ]
  },
  {
   "cell_type": "code",
   "execution_count": 25,
   "metadata": {},
   "outputs": [],
   "source": [
    "inv_pred = inv_pred[:,-8 * time_steps:].flatten()"
   ]
  },
  {
   "cell_type": "code",
   "execution_count": 29,
   "metadata": {},
   "outputs": [],
   "source": [
    "inv_pred = inv_pred.reshape(10,8)"
   ]
  },
  {
   "cell_type": "code",
   "execution_count": 32,
   "metadata": {},
   "outputs": [
    {
     "data": {
      "text/plain": [
       "array([[2.43605943e+03, 2.60543337e+00, 2.65435585e+00, 1.07992419e+02,\n",
       "        1.02743254e+03, 1.66319555e+00, 1.09193037e+02, 6.78180010e-01],\n",
       "       [2.22254594e+03, 2.83834996e+00, 2.89823479e+00, 9.14146836e+01,\n",
       "        1.17909662e+03, 1.50764584e+00, 1.05060928e+02, 7.48614381e-01],\n",
       "       [2.39799537e+03, 3.66810398e+00, 3.34144585e+00, 8.43908391e+01,\n",
       "        1.18570528e+03, 1.44664545e+00, 1.14799951e+02, 7.48182886e-01],\n",
       "       [2.45368353e+03, 3.60682193e+00, 3.55614532e+00, 8.20168201e+01,\n",
       "        1.18786867e+03, 1.41322780e+00, 1.14412945e+02, 7.46550604e-01],\n",
       "       [2.45707553e+03, 3.49793407e+00, 3.79563988e+00, 8.06741246e+01,\n",
       "        1.18054618e+03, 1.40679106e+00, 1.12805132e+02, 7.44346810e-01],\n",
       "       [2.47580303e+03, 3.43421471e+00, 3.94964224e+00, 8.20616784e+01,\n",
       "        1.20062666e+03, 1.40915689e+00, 1.12063999e+02, 7.44720937e-01],\n",
       "       [2.48666103e+03, 3.41013722e+00, 4.09536800e+00, 8.18199450e+01,\n",
       "        1.19852185e+03, 1.41248282e+00, 1.11668300e+02, 7.47726713e-01],\n",
       "       [2.51238969e+03, 3.43816562e+00, 4.20897358e+00, 8.17099492e+01,\n",
       "        1.19701861e+03, 1.41367063e+00, 1.11740138e+02, 7.49049850e-01],\n",
       "       [2.52005097e+03, 3.43327604e+00, 4.27817252e+00, 8.08004690e+01,\n",
       "        1.19692496e+03, 1.39863662e+00, 1.11501729e+02, 7.43949565e-01],\n",
       "       [2.54174698e+03, 3.45581621e+00, 4.34348440e+00, 8.07559000e+01,\n",
       "        1.20826673e+03, 1.39604876e+00, 1.11817834e+02, 7.42557365e-01]])"
      ]
     },
     "execution_count": 32,
     "metadata": {},
     "output_type": "execute_result"
    }
   ],
   "source": [
    "inv_pred"
   ]
  },
  {
   "cell_type": "code",
   "execution_count": 33,
   "metadata": {},
   "outputs": [
    {
     "data": {
      "text/plain": [
       "array([2436.05942862, 2222.54593622, 2397.99537389, 2453.68352562,\n",
       "       2457.07553023, 2475.80302902, 2486.6610255 , 2512.38969303,\n",
       "       2520.05096502, 2541.74698003])"
      ]
     },
     "execution_count": 33,
     "metadata": {},
     "output_type": "execute_result"
    }
   ],
   "source": [
    "inv_pred[:,0]"
   ]
  },
  {
   "cell_type": "code",
   "execution_count": 34,
   "metadata": {},
   "outputs": [
    {
     "data": {
      "application/vnd.plotly.v1+json": {
       "config": {
        "linkText": "Export to plot.ly",
        "plotlyServerURL": "https://plot.ly",
        "showLink": false
       },
       "data": [
        {
         "name": "Multi Predict Price",
         "type": "scatter",
         "uid": "8e67f459-f78d-48e6-a068-4558ce9e5de5",
         "x": [
          1,
          2,
          3,
          4,
          5,
          6,
          7,
          8,
          9,
          10
         ],
         "y": [
          2436.059428624256,
          2222.545936219248,
          2397.995373885854,
          2453.683525618657,
          2457.075530225291,
          2475.8030290226206,
          2486.661025503874,
          2512.3896930307956,
          2520.0509650182794,
          2541.7469800312874
         ]
        }
       ],
       "layout": {}
      },
      "text/html": [
       "<div id=\"4c68060d-6e74-497f-8b65-7105e856c019\" style=\"height: 525px; width: 100%;\" class=\"plotly-graph-div\"></div><script type=\"text/javascript\">require([\"plotly\"], function(Plotly) { window.PLOTLYENV=window.PLOTLYENV || {};window.PLOTLYENV.BASE_URL=\"https://plot.ly\";Plotly.newPlot(\"4c68060d-6e74-497f-8b65-7105e856c019\", [{\"name\": \"Multi Predict Price\", \"x\": [1, 2, 3, 4, 5, 6, 7, 8, 9, 10], \"y\": [2436.059428624256, 2222.545936219248, 2397.995373885854, 2453.683525618657, 2457.075530225291, 2475.8030290226206, 2486.661025503874, 2512.3896930307956, 2520.0509650182794, 2541.7469800312874], \"type\": \"scatter\", \"uid\": \"ee27f5d0-9785-4cf8-b6de-bc133e0a834d\"}], {}, {\"showLink\": false, \"linkText\": \"Export to plot.ly\", \"plotlyServerURL\": \"https://plot.ly\"})});</script><script type=\"text/javascript\">window.addEventListener(\"resize\", function(){window._Plotly.Plots.resize(document.getElementById(\"4c68060d-6e74-497f-8b65-7105e856c019\"));});</script>"
      ],
      "text/vnd.plotly.v1+html": [
       "<div id=\"4c68060d-6e74-497f-8b65-7105e856c019\" style=\"height: 525px; width: 100%;\" class=\"plotly-graph-div\"></div><script type=\"text/javascript\">require([\"plotly\"], function(Plotly) { window.PLOTLYENV=window.PLOTLYENV || {};window.PLOTLYENV.BASE_URL=\"https://plot.ly\";Plotly.newPlot(\"4c68060d-6e74-497f-8b65-7105e856c019\", [{\"name\": \"Multi Predict Price\", \"x\": [1, 2, 3, 4, 5, 6, 7, 8, 9, 10], \"y\": [2436.059428624256, 2222.545936219248, 2397.995373885854, 2453.683525618657, 2457.075530225291, 2475.8030290226206, 2486.661025503874, 2512.3896930307956, 2520.0509650182794, 2541.7469800312874], \"type\": \"scatter\", \"uid\": \"ee27f5d0-9785-4cf8-b6de-bc133e0a834d\"}], {}, {\"showLink\": false, \"linkText\": \"Export to plot.ly\", \"plotlyServerURL\": \"https://plot.ly\"})});</script><script type=\"text/javascript\">window.addEventListener(\"resize\", function(){window._Plotly.Plots.resize(document.getElementById(\"4c68060d-6e74-497f-8b65-7105e856c019\"));});</script>"
      ]
     },
     "metadata": {},
     "output_type": "display_data"
    }
   ],
   "source": [
    "#predictDates = data.tail(len(test_y)).index\n",
    "#actual_chart = go.Scatter(x=predictDates, y=inv_y[:,0], name= 'Actual Price')\n",
    "multi_predict_chart = go.Scatter(x=np.array([1,2,3,4,5,6,7,8,9,10]), y=inv_pred[:,0], name= 'Multi Predict Price')\n",
    "py.iplot([multi_predict_chart])"
   ]
  },
  {
   "cell_type": "code",
   "execution_count": null,
   "metadata": {},
   "outputs": [],
   "source": []
  }
 ],
 "metadata": {
  "kernelspec": {
   "display_name": "Python 3",
   "language": "python",
   "name": "python3"
  },
  "language_info": {
   "codemirror_mode": {
    "name": "ipython",
    "version": 3
   },
   "file_extension": ".py",
   "mimetype": "text/x-python",
   "name": "python",
   "nbconvert_exporter": "python",
   "pygments_lexer": "ipython3",
   "version": "3.6.8"
  }
 },
 "nbformat": 4,
 "nbformat_minor": 2
}
