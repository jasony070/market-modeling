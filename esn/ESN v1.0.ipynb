{
 "cells": [
  {
   "cell_type": "code",
   "execution_count": 2,
   "metadata": {
    "collapsed": true
   },
   "outputs": [],
   "source": [
    "import pandas as pd\n",
    "import numpy as np\n",
    "\n",
    "from sklearn import svm\n",
    "from sklearn.base import BaseEstimator, ClassifierMixin\n",
    "from sklearn import linear_model\n",
    "from sklearn.neighbors import KNeighborsRegressor\n",
    "from sklearn.tree import DecisionTreeRegressor"
   ]
  },
  {
   "cell_type": "markdown",
   "metadata": {},
   "source": [
    "# Data"
   ]
  },
  {
   "cell_type": "code",
   "execution_count": 5,
   "metadata": {
    "collapsed": false
   },
   "outputs": [
    {
     "name": "stdout",
     "output_type": "stream",
     "text": [
      "(7931, 9)\n"
     ]
    },
    {
     "data": {
      "text/html": [
       "<div>\n",
       "<style scoped>\n",
       "    .dataframe tbody tr th:only-of-type {\n",
       "        vertical-align: middle;\n",
       "    }\n",
       "\n",
       "    .dataframe tbody tr th {\n",
       "        vertical-align: top;\n",
       "    }\n",
       "\n",
       "    .dataframe thead th {\n",
       "        text-align: right;\n",
       "    }\n",
       "</style>\n",
       "<table border=\"1\" class=\"dataframe\">\n",
       "  <thead>\n",
       "    <tr style=\"text-align: right;\">\n",
       "      <th></th>\n",
       "      <th>date</th>\n",
       "      <th>TCMNOM_Y2</th>\n",
       "      <th>TCMNOM_Y10</th>\n",
       "      <th>DCOILBRENTEU</th>\n",
       "      <th>spindx</th>\n",
       "      <th>GOLDPMGBD228NLBM</th>\n",
       "      <th>exalus</th>\n",
       "      <th>exjpus</th>\n",
       "      <th>exukus</th>\n",
       "    </tr>\n",
       "  </thead>\n",
       "  <tbody>\n",
       "    <tr>\n",
       "      <th>0</th>\n",
       "      <td>19870520</td>\n",
       "      <td>8.05</td>\n",
       "      <td>8.92</td>\n",
       "      <td>18.63</td>\n",
       "      <td>278.21</td>\n",
       "      <td>475.25</td>\n",
       "      <td>1.3820</td>\n",
       "      <td>139.78</td>\n",
       "      <td>0.5942</td>\n",
       "    </tr>\n",
       "    <tr>\n",
       "      <th>1</th>\n",
       "      <td>19870521</td>\n",
       "      <td>8.06</td>\n",
       "      <td>8.87</td>\n",
       "      <td>18.45</td>\n",
       "      <td>280.17</td>\n",
       "      <td>469.10</td>\n",
       "      <td>1.3864</td>\n",
       "      <td>140.45</td>\n",
       "      <td>0.5956</td>\n",
       "    </tr>\n",
       "    <tr>\n",
       "      <th>2</th>\n",
       "      <td>19870522</td>\n",
       "      <td>7.97</td>\n",
       "      <td>8.78</td>\n",
       "      <td>18.55</td>\n",
       "      <td>282.16</td>\n",
       "      <td>466.50</td>\n",
       "      <td>1.3883</td>\n",
       "      <td>140.60</td>\n",
       "      <td>0.5977</td>\n",
       "    </tr>\n",
       "    <tr>\n",
       "      <th>3</th>\n",
       "      <td>19870526</td>\n",
       "      <td>7.79</td>\n",
       "      <td>8.55</td>\n",
       "      <td>18.63</td>\n",
       "      <td>289.11</td>\n",
       "      <td>449.00</td>\n",
       "      <td>1.4029</td>\n",
       "      <td>143.30</td>\n",
       "      <td>0.6120</td>\n",
       "    </tr>\n",
       "    <tr>\n",
       "      <th>4</th>\n",
       "      <td>19870527</td>\n",
       "      <td>7.84</td>\n",
       "      <td>8.60</td>\n",
       "      <td>18.60</td>\n",
       "      <td>288.73</td>\n",
       "      <td>449.50</td>\n",
       "      <td>1.3988</td>\n",
       "      <td>143.52</td>\n",
       "      <td>0.6200</td>\n",
       "    </tr>\n",
       "  </tbody>\n",
       "</table>\n",
       "</div>"
      ],
      "text/plain": [
       "       date  TCMNOM_Y2  TCMNOM_Y10  DCOILBRENTEU  spindx  GOLDPMGBD228NLBM  \\\n",
       "0  19870520       8.05        8.92         18.63  278.21            475.25   \n",
       "1  19870521       8.06        8.87         18.45  280.17            469.10   \n",
       "2  19870522       7.97        8.78         18.55  282.16            466.50   \n",
       "3  19870526       7.79        8.55         18.63  289.11            449.00   \n",
       "4  19870527       7.84        8.60         18.60  288.73            449.50   \n",
       "\n",
       "   exalus  exjpus  exukus  \n",
       "0  1.3820  139.78  0.5942  \n",
       "1  1.3864  140.45  0.5956  \n",
       "2  1.3883  140.60  0.5977  \n",
       "3  1.4029  143.30  0.6120  \n",
       "4  1.3988  143.52  0.6200  "
      ]
     },
     "execution_count": 5,
     "metadata": {},
     "output_type": "execute_result"
    }
   ],
   "source": [
    "df = pd.read_csv(\"./data/clean_data.csv\")\n",
    "df = df.apply(pd.to_numeric,errors = \"coerce\")\n",
    "print(df.shape)\n",
    "df.head(5)"
   ]
  },
  {
   "cell_type": "code",
   "execution_count": 6,
   "metadata": {
    "collapsed": true
   },
   "outputs": [],
   "source": [
    "train = []\n",
    "out = []\n",
    "test = []\n",
    "test_out = []\n",
    "for i in np.random.randint(df.shape[0]-50, size=1000):\n",
    "    if np.random.randint(100) % 5 == 0:\n",
    "        test.append(np.array([df.iloc[c,1:].astype(float).values for c in range(i, i+30)]).T)\n",
    "        test_out.append([df.iloc[i+35, 1:].astype(float).values])\n",
    "    else:\n",
    "        train.append(np.array([df.iloc[c,1:].astype(float).values for c in range(i, i+30)]).T)\n",
    "        out.append([df.iloc[i+35, 1:].astype(float).values])"
   ]
  },
  {
   "cell_type": "code",
   "execution_count": 7,
   "metadata": {
    "collapsed": false
   },
   "outputs": [
    {
     "data": {
      "text/plain": [
       "(50, 3)"
      ]
     },
     "execution_count": 7,
     "metadata": {},
     "output_type": "execute_result"
    }
   ],
   "source": [
    "ts=np.random.uniform(-1,1,(50,3))\n",
    "ts.shape"
   ]
  },
  {
   "cell_type": "code",
   "execution_count": 8,
   "metadata": {
    "collapsed": false
   },
   "outputs": [
    {
     "data": {
      "text/plain": [
       "(50, 3)"
      ]
     },
     "execution_count": 8,
     "metadata": {},
     "output_type": "execute_result"
    }
   ],
   "source": [
    "ts.shape"
   ]
  },
  {
   "cell_type": "markdown",
   "metadata": {},
   "source": [
    "# Model"
   ]
  },
  {
   "cell_type": "code",
   "execution_count": 10,
   "metadata": {
    "collapsed": false
   },
   "outputs": [
    {
     "name": "stdout",
     "output_type": "stream",
     "text": [
      "states generated\n",
      "Model Fitted\n"
     ]
    }
   ],
   "source": [
    "import ESN as res\n"
   ]
  },
  {
   "cell_type": "code",
   "execution_count": 11,
   "metadata": {
    "collapsed": true
   },
   "outputs": [],
   "source": [
    "class ESN:\n",
    "    \n",
    "    def __init__(self,w,v,X='None',Activation=np.tanh,alpha=1,beta=0,PCA=False,n_components=100,UseLinear=True,readout=None):\n",
    "        self.w=w\n",
    "        self.v=v\n",
    "        self.X=X\n",
    "        self.Activation=Activation\n",
    "        self.alpha=alpha\n",
    "        self.beta=beta\n",
    "        self.PCA=PCA\n",
    "        self.n_components=n_components\n",
    "        self.states=[]\n",
    "        if UseLinear==False:\n",
    "            self.readout=readout\n",
    "        self.UseLinear=UseLinear\n",
    "        self.n=v.shape[0]\n",
    "        \n",
    "    def GenNetState(self,TS,noise=True):\n",
    "        if type(self.X)==str:\n",
    "            self.X=np.matrix([0]*self.w.shape[0]).reshape((self.w.shape[0],1))\n",
    "        states=[]\n",
    "        for i in range(len(TS)):\n",
    "            self.X=self.Activation(np.dot(self.w,self.X)+np.dot(self.v,TS[i]))\n",
    "            states+=[self.X]\n",
    "            self.states+=[self.X]\n",
    "        return np.matrix(np.transpose(np.array(states),[2,0,1])[0])\n",
    "    \n",
    "    def fit(self,inTS,out,score=False):\n",
    "        '''input a sequence X and a target sequence y to fit weights'''\n",
    "        states = self.GenNetState(inTS)\n",
    "        if self.UseLinear==True:\n",
    "            if self.alpha==0 and self.beta==0:\n",
    "                self.readout=linear_model.LinearRegression()\n",
    "                \n",
    "            elif self.alpha==0:\n",
    "                self.readout = linear_model.Lasso(alpha=self.beta)\n",
    "                \n",
    "            elif self.beta==0:\n",
    "                self.readout = linear_model.Ridge(alpha=self.alpha)\n",
    "                \n",
    "            else:\n",
    "                self.readout = linear_model.ElasticNet(alpha=self.alpha,l1_ratio=self.beta/self.alpha)\n",
    "            \n",
    "        if self.PCA==True:\n",
    "            self.meansub=states.mean(0).reshape(1,self.n)\n",
    "            states=states-self.meansub\n",
    "            U,sigma,W=np.linalg.svd(states)\n",
    "            self.Wtrunk=W.T[:self.n_components].T\n",
    "            states=states*self.Wtrunk\n",
    "            \n",
    "        self.readout.fit(states,out)\n",
    "        \n",
    "        if self.UseLinear==True:\n",
    "            self.Weights=np.matrix(self.readout.coef_).T\n",
    "            self.intercept=self.readout.intercept_\n",
    "\n",
    "        if score==True:\n",
    "            return [self.Weights,self.readout.score(states,out)]\n",
    "\n",
    "\n",
    "    def pca(self,X):\n",
    "        if self.PCA==False:\n",
    "            return X\n",
    "        else:\n",
    "            return (X-self.meansub)*self.Wtrunk\n",
    "    \n",
    "    def kStepFit(self,TS,k,score=False):\n",
    "        if score==False:\n",
    "            self.fit(TS[:-k],TS[k:],score=score)\n",
    "        else:\n",
    "            return self.fit(TS[:-k],TS[k:],score=score)[1]\n",
    "        \n",
    "    def predict(self,inTS):\n",
    "        states=self.GenNetState(inTS)\n",
    "        states = self.pca(states)\n",
    "        \n",
    "        return self.readout.predict(states)\n",
    "    \n",
    "    def FreeRun(self,length):\n",
    "        states=[]\n",
    "        for i in range(length):\n",
    "            pred=self.readout.predict(self.pca(self.X.T))[0]\n",
    "            self.X=self.Activation(np.dot(self.w,self.X)+np.dot(self.v,pred))\n",
    "            states+=[self.X]\n",
    "        stateMat=np.transpose(np.array(states),[2,0,1])[0]\n",
    "        preds=self.readout.predict(self.pca(stateMat))\n",
    "        return preds\n"
   ]
  },
  {
   "cell_type": "markdown",
   "metadata": {},
   "source": [
    "20 Node network, with 3 dimensional input"
   ]
  },
  {
   "cell_type": "code",
   "execution_count": 12,
   "metadata": {
    "collapsed": true
   },
   "outputs": [],
   "source": [
    "n_nodes=20\n",
    "dim_input=3\n",
    "W = res.RandomMatrix(n_nodes, 0, 0.9)\n",
    "v = np.matrix(np.random.uniform(-1,1,size=n_nodes*dim_input)).reshape((n_nodes,dim_input))\n",
    "net = ESN(W,v,Activation=np.tanh)"
   ]
  },
  {
   "cell_type": "markdown",
   "metadata": {},
   "source": [
    "In order to fit, we want to predict 1 step ahead, so we truncate the last entry of the original time series, and shift it by 1 for the target\n",
    "\n",
    "a,b,c,d,e,f\n",
    "\n",
    "becomes\n",
    "\n",
    "a,b,c,d,e\n",
    "\n",
    "predicting\n",
    "\n",
    "b,c,d,e,f"
   ]
  },
  {
   "cell_type": "code",
   "execution_count": 13,
   "metadata": {
    "collapsed": true
   },
   "outputs": [],
   "source": [
    "net.fit(ts[:-1],ts[1:])"
   ]
  },
  {
   "cell_type": "code",
   "execution_count": 14,
   "metadata": {
    "collapsed": false
   },
   "outputs": [
    {
     "data": {
      "text/plain": [
       "array([[-0.03663138, -0.22347683, -0.00626524],\n",
       "       [-0.1396812 ,  0.09007733, -0.16398958],\n",
       "       [-0.1893055 ,  0.40425434, -0.12397461],\n",
       "       [-0.3746174 ,  0.51884209, -0.05019251],\n",
       "       [-0.45044801,  0.25502108, -0.13255163],\n",
       "       [-0.386311  ,  0.09062258, -0.16373426],\n",
       "       [-0.23102869, -0.08935983, -0.11169046],\n",
       "       [-0.11962778, -0.33259385, -0.01518283],\n",
       "       [ 0.01441911, -0.51971515,  0.01543344],\n",
       "       [ 0.15256603, -0.56194188,  0.06063159]])"
      ]
     },
     "execution_count": 14,
     "metadata": {},
     "output_type": "execute_result"
    }
   ],
   "source": [
    "net.FreeRun(10)"
   ]
  },
  {
   "cell_type": "code",
   "execution_count": null,
   "metadata": {
    "collapsed": true
   },
   "outputs": [],
   "source": []
  }
 ],
 "metadata": {
  "anaconda-cloud": {},
  "kernelspec": {
   "display_name": "Python [Root]",
   "language": "python",
   "name": "Python [Root]"
  },
  "language_info": {
   "codemirror_mode": {
    "name": "ipython",
    "version": 3
   },
   "file_extension": ".py",
   "mimetype": "text/x-python",
   "name": "python",
   "nbconvert_exporter": "python",
   "pygments_lexer": "ipython3",
   "version": "3.5.2"
  }
 },
 "nbformat": 4,
 "nbformat_minor": 2
}
