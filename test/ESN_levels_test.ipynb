{
  "nbformat": 4,
  "nbformat_minor": 0,
  "metadata": {
    "colab": {
      "name": "ESN-levels-test.ipynb",
      "version": "0.3.2",
      "provenance": [],
      "collapsed_sections": []
    },
    "kernelspec": {
      "name": "python3",
      "display_name": "Python 3"
    },
    "accelerator": "GPU"
  },
  "cells": [
    {
      "metadata": {
        "id": "UW3-g9cj8ioM",
        "colab_type": "code",
        "outputId": "da15fbd5-6a0f-4e20-fd59-88715c950fea",
        "colab": {
          "base_uri": "https://localhost:8080/",
          "height": 34
        }
      },
      "cell_type": "code",
      "source": [
        "from google.colab import drive\n",
        "drive.mount('/content/gdrive')"
      ],
      "execution_count": 0,
      "outputs": [
        {
          "output_type": "stream",
          "text": [
            "Drive already mounted at /content/gdrive; to attempt to forcibly remount, call drive.mount(\"/content/gdrive\", force_remount=True).\n"
          ],
          "name": "stdout"
        }
      ]
    },
    {
      "metadata": {
        "id": "QBrec4i88mjc",
        "colab_type": "code",
        "outputId": "a50a6bbf-b2cf-4524-c201-81e3af40d585",
        "colab": {
          "base_uri": "https://localhost:8080/",
          "height": 279
        }
      },
      "cell_type": "code",
      "source": [
        "!ls 'gdrive/My Drive/'"
      ],
      "execution_count": 0,
      "outputs": [
        {
          "output_type": "stream",
          "text": [
            "'2019-04-11 18-17.pdf'\t\t\t   ESN-growth-test.ipynb\n",
            " 8-8-ESN-G.hdf5\t\t\t\t   ESN_levels.hdf5\n",
            " 8-8-ESN-L.hdf5\t\t\t\t  'Fall 2017'\n",
            " 8-8growth_rate.ipynb\t\t\t  'Freshman Year'\n",
            " amazon.txt\t\t\t\t   Grades\n",
            "'APAM Mentor Application 2019-2020.gdoc'   IMG_1422.JPG\n",
            " Career\t\t\t\t\t  'Lowe Institute'\n",
            "'CHEN RICHY Photo.JPG'\t\t\t   lstm_growth.hdf5\n",
            " clouderizer\t\t\t\t  'Markets NN Pitch.gslides'\n",
            "'Code Translation Project'\t\t   Philosophy\n",
            "'Colab Notebooks'\t\t\t   QQtrader\n",
            "'Derivatives MG Case.gdoc'\t\t  'Quotes Thoughts.gdoc'\n",
            " Echo_State_Networks.ipynb\t\t  'Salvatori Center'\n",
            "'ESN 8-8growth_rate.ipynb'\t\t   Schedules.gsheet\n",
            " ESN-8-to-8levels.ipynb\n"
          ],
          "name": "stdout"
        }
      ]
    },
    {
      "metadata": {
        "id": "xJHTA-JR8rOd",
        "colab_type": "code",
        "colab": {}
      },
      "cell_type": "code",
      "source": [
        "\"\"\"\n",
        "  Takes a model and data, modifies the data for the model, and runs the model\n",
        "\"\"\"\n",
        "\n",
        "import pandas as pd\n",
        "from sklearn.preprocessing import MinMaxScaler\n",
        "from keras.models import load_model\n",
        "from keras import backend as K\n",
        "from numpy import concatenate\n",
        "from numpy import append\n",
        "from numpy import array\n",
        "from numpy import nan\n",
        "\n",
        "def sign_ae(x, y):\n",
        "    sign_x = K.sign(x)\n",
        "    sign_y = K.sign(y)\n",
        "    delta = x - y\n",
        "    return sign_x * sign_y * K.abs(delta)\n",
        "\n",
        "\n",
        "def linex_loss(delta, a=-1, b=1):\n",
        "    if a!= 0 and b > 0:\n",
        "        loss = b * (K.exp(a * delta) - a * delta - 1)\n",
        "        return loss\n",
        "    else:\n",
        "        raise ValueError\n",
        "\n",
        "\n",
        "def linex_loss_val(y_true, y_pred):\n",
        "    delta = sign_ae(y_true, y_pred)\n",
        "    res = linex_loss(delta)\n",
        "    return K.mean(res)\n",
        "\n",
        "\n",
        "def linex_loss_ret(y_true, y_pred):\n",
        "    diff_true = y_true[1:] - y_true[:-1]\n",
        "    diff_pred = y_pred[1:] - y_pred[:-1]\n",
        "\n",
        "    delta = sign_ae(diff_true, diff_pred)\n",
        "    res = linex_loss(delta)\n",
        "    return K.mean(res)\n",
        "\n",
        "def series_to_supervised(data, n_in=1, n_out=1, dropnan=True):\n",
        "    \"\"\"\n",
        "      Creates batches of data for the model\n",
        "    \"\"\"\n",
        "    n_vars = 1 if isinstance(data, list) else data.shape[1]\n",
        "    df = pd.DataFrame(data)\n",
        "    cols, names = list(), list()\n",
        "    # input sequence (t-n, ... t-1)\n",
        "    for i in range(n_in, 0, -1):\n",
        "        cols.append(df.shift(i))\n",
        "        names += [('var%d(t-%d)' % (j+1, i)) for j in range(n_vars)]\n",
        "    # forecast sequence (t, t+1, ... t+n)\n",
        "    for i in range(0, n_out):\n",
        "        cols.append(df.shift(-i))\n",
        "        if i == 0:\n",
        "            names += [('var%d(t)' % (j+1)) for j in range(n_vars)]\n",
        "        else:\n",
        "            names += [('var%d(t+%d)' % (j+1, i)) for j in range(n_vars)]\n",
        "    agg = pd.concat(cols, axis=1)\n",
        "    agg.columns = names\n",
        "    if dropnan:\n",
        "        agg.dropna(inplace=True)\n",
        "    return agg\n",
        "\n",
        "def get_data():\n",
        "    data = pd.read_csv(filepath_or_buffer=\"https://raw.githubusercontent.com/richychn/market-modeling/master/static/data/levels.csv\", index_col=\"date\")\n",
        "    data = data.apply(pd.to_numeric, errors = \"coerce\")\n",
        "    data['spindx'].replace(0, nan, inplace=True)\n",
        "    data['spindx'].fillna(method='ffill', inplace=True)\n",
        "    values = data[['spindx'] + ['TCMNOM_Y2'] + ['TCMNOM_Y10'] + ['DCOILBRENTEU'] + ['GOLDPMGBD228NLBM'] + ['exalus'] + ['exjpus'] + ['exukus']].values\n",
        "    values = values.astype('float32')\n",
        "    return values\n",
        "\n",
        "def data_setup(values, start):\n",
        "    historic_data = array([])\n",
        "    for day in values[-20:]:\n",
        "        historic_data = concatenate((historic_data, day), axis=None)\n",
        "    historic_data = append (historic_data, historic_data)\n",
        "    look_back = 10\n",
        "    time_steps = 10\n",
        "    reframed = series_to_supervised(values, look_back, time_steps)\n",
        "    scaler = MinMaxScaler(feature_range=(0, 1))\n",
        "    scaled = scaler.fit_transform(reframed)\n",
        "    pred_para = scaled[-1][8*start:8*(start+time_steps)]\n",
        "    pred_para = pred_para.reshape(1,10,8)\n",
        "    return pred_para    \n",
        "\n",
        "def test_single_investment():\n",
        "    values = get_data()\n",
        "    K.clear_session()\n",
        "    multi_model = load_model(\"gdrive/My Drive/8-8-ESN-L.hdf5\", custom_objects={'linex_loss_ret': linex_loss_ret})\n",
        "\n",
        "    investments = []\n",
        "    earn = 1\n",
        "    day = 0\n",
        "    while day < len(values) / 8 - 10:\n",
        "        pred_para = data_setup(values, day)\n",
        "        yhat = multi_model.predict(pred_para)\n",
        "        growth = yhat[0][0] - pred_para[0][-1]\n",
        " \n",
        "        best_so_far = 0\n",
        "        asset = -1\n",
        "        for num, growth in enumerate(growth):\n",
        "            if growth > best_so_far:\n",
        "                best_so_far = growth\n",
        "                asset = num\n",
        "        if best_so_far > 0:\n",
        "            earn = earn * (1 + values[day + 10][asset])\n",
        "        investments.append(asset)\n",
        "        day += 1\n",
        "    return earn, investments\n",
        "        "
      ],
      "execution_count": 0,
      "outputs": []
    },
    {
      "metadata": {
        "id": "ekSa9g-R_cpb",
        "colab_type": "code",
        "outputId": "1bbd92bb-9ddd-42f8-c468-b298601dba99",
        "colab": {
          "base_uri": "https://localhost:8080/",
          "height": 772
        }
      },
      "cell_type": "code",
      "source": [
        "ret = test_single_investment()\n",
        "print(ret)"
      ],
      "execution_count": 13,
      "outputs": [
        {
          "output_type": "stream",
          "text": [
            "/usr/local/lib/python3.6/dist-packages/sklearn/preprocessing/data.py:334: DataConversionWarning: Data with input dtype float32 were all converted to float64 by MinMaxScaler.\n",
            "  return self.partial_fit(X, y)\n",
            "/usr/local/lib/python3.6/dist-packages/sklearn/preprocessing/data.py:334: DataConversionWarning: Data with input dtype float32 were all converted to float64 by MinMaxScaler.\n",
            "  return self.partial_fit(X, y)\n",
            "/usr/local/lib/python3.6/dist-packages/sklearn/preprocessing/data.py:334: DataConversionWarning: Data with input dtype float32 were all converted to float64 by MinMaxScaler.\n",
            "  return self.partial_fit(X, y)\n",
            "/usr/local/lib/python3.6/dist-packages/sklearn/preprocessing/data.py:334: DataConversionWarning: Data with input dtype float32 were all converted to float64 by MinMaxScaler.\n",
            "  return self.partial_fit(X, y)\n",
            "/usr/local/lib/python3.6/dist-packages/sklearn/preprocessing/data.py:334: DataConversionWarning: Data with input dtype float32 were all converted to float64 by MinMaxScaler.\n",
            "  return self.partial_fit(X, y)\n",
            "/usr/local/lib/python3.6/dist-packages/sklearn/preprocessing/data.py:334: DataConversionWarning: Data with input dtype float32 were all converted to float64 by MinMaxScaler.\n",
            "  return self.partial_fit(X, y)\n",
            "/usr/local/lib/python3.6/dist-packages/sklearn/preprocessing/data.py:334: DataConversionWarning: Data with input dtype float32 were all converted to float64 by MinMaxScaler.\n",
            "  return self.partial_fit(X, y)\n",
            "/usr/local/lib/python3.6/dist-packages/sklearn/preprocessing/data.py:334: DataConversionWarning: Data with input dtype float32 were all converted to float64 by MinMaxScaler.\n",
            "  return self.partial_fit(X, y)\n",
            "/usr/local/lib/python3.6/dist-packages/sklearn/preprocessing/data.py:334: DataConversionWarning: Data with input dtype float32 were all converted to float64 by MinMaxScaler.\n",
            "  return self.partial_fit(X, y)\n",
            "/usr/local/lib/python3.6/dist-packages/sklearn/preprocessing/data.py:334: DataConversionWarning: Data with input dtype float32 were all converted to float64 by MinMaxScaler.\n",
            "  return self.partial_fit(X, y)\n",
            "/usr/local/lib/python3.6/dist-packages/sklearn/preprocessing/data.py:334: DataConversionWarning: Data with input dtype float32 were all converted to float64 by MinMaxScaler.\n",
            "  return self.partial_fit(X, y)\n",
            "/usr/local/lib/python3.6/dist-packages/sklearn/preprocessing/data.py:334: DataConversionWarning: Data with input dtype float32 were all converted to float64 by MinMaxScaler.\n",
            "  return self.partial_fit(X, y)\n"
          ],
          "name": "stderr"
        },
        {
          "output_type": "error",
          "ename": "ValueError",
          "evalue": "ignored",
          "traceback": [
            "\u001b[0;31m---------------------------------------------------------------------------\u001b[0m",
            "\u001b[0;31mValueError\u001b[0m                                Traceback (most recent call last)",
            "\u001b[0;32m<ipython-input-13-36fed7850fc4>\u001b[0m in \u001b[0;36m<module>\u001b[0;34m()\u001b[0m\n\u001b[0;32m----> 1\u001b[0;31m \u001b[0mret\u001b[0m \u001b[0;34m=\u001b[0m \u001b[0mtest_single_investment\u001b[0m\u001b[0;34m(\u001b[0m\u001b[0;34m)\u001b[0m\u001b[0;34m\u001b[0m\u001b[0;34m\u001b[0m\u001b[0m\n\u001b[0m\u001b[1;32m      2\u001b[0m \u001b[0mprint\u001b[0m\u001b[0;34m(\u001b[0m\u001b[0mret\u001b[0m\u001b[0;34m)\u001b[0m\u001b[0;34m\u001b[0m\u001b[0;34m\u001b[0m\u001b[0m\n",
            "\u001b[0;32m<ipython-input-12-ecd221b3ecb9>\u001b[0m in \u001b[0;36mtest_single_investment\u001b[0;34m()\u001b[0m\n\u001b[1;32m     97\u001b[0m     \u001b[0mday\u001b[0m \u001b[0;34m=\u001b[0m \u001b[0;36m0\u001b[0m\u001b[0;34m\u001b[0m\u001b[0;34m\u001b[0m\u001b[0m\n\u001b[1;32m     98\u001b[0m     \u001b[0;32mwhile\u001b[0m \u001b[0mday\u001b[0m \u001b[0;34m<\u001b[0m \u001b[0mlen\u001b[0m\u001b[0;34m(\u001b[0m\u001b[0mvalues\u001b[0m\u001b[0;34m)\u001b[0m \u001b[0;34m/\u001b[0m \u001b[0;36m8\u001b[0m \u001b[0;34m-\u001b[0m \u001b[0;36m10\u001b[0m\u001b[0;34m:\u001b[0m\u001b[0;34m\u001b[0m\u001b[0;34m\u001b[0m\u001b[0m\n\u001b[0;32m---> 99\u001b[0;31m         \u001b[0mpred_para\u001b[0m \u001b[0;34m=\u001b[0m \u001b[0mdata_setup\u001b[0m\u001b[0;34m(\u001b[0m\u001b[0mvalues\u001b[0m\u001b[0;34m,\u001b[0m \u001b[0mday\u001b[0m\u001b[0;34m)\u001b[0m\u001b[0;34m\u001b[0m\u001b[0;34m\u001b[0m\u001b[0m\n\u001b[0m\u001b[1;32m    100\u001b[0m         \u001b[0myhat\u001b[0m \u001b[0;34m=\u001b[0m \u001b[0mmulti_model\u001b[0m\u001b[0;34m.\u001b[0m\u001b[0mpredict\u001b[0m\u001b[0;34m(\u001b[0m\u001b[0mpred_para\u001b[0m\u001b[0;34m)\u001b[0m\u001b[0;34m\u001b[0m\u001b[0;34m\u001b[0m\u001b[0m\n\u001b[1;32m    101\u001b[0m         \u001b[0mgrowth\u001b[0m \u001b[0;34m=\u001b[0m \u001b[0myhat\u001b[0m\u001b[0;34m[\u001b[0m\u001b[0;36m0\u001b[0m\u001b[0;34m]\u001b[0m\u001b[0;34m[\u001b[0m\u001b[0;36m0\u001b[0m\u001b[0;34m]\u001b[0m \u001b[0;34m-\u001b[0m \u001b[0mpred_para\u001b[0m\u001b[0;34m[\u001b[0m\u001b[0;36m0\u001b[0m\u001b[0;34m]\u001b[0m\u001b[0;34m[\u001b[0m\u001b[0;34m-\u001b[0m\u001b[0;36m1\u001b[0m\u001b[0;34m]\u001b[0m\u001b[0;34m\u001b[0m\u001b[0;34m\u001b[0m\u001b[0m\n",
            "\u001b[0;32m<ipython-input-12-ecd221b3ecb9>\u001b[0m in \u001b[0;36mdata_setup\u001b[0;34m(values, start)\u001b[0m\n\u001b[1;32m     85\u001b[0m     \u001b[0mscaled\u001b[0m \u001b[0;34m=\u001b[0m \u001b[0mscaler\u001b[0m\u001b[0;34m.\u001b[0m\u001b[0mfit_transform\u001b[0m\u001b[0;34m(\u001b[0m\u001b[0mreframed\u001b[0m\u001b[0;34m)\u001b[0m\u001b[0;34m\u001b[0m\u001b[0;34m\u001b[0m\u001b[0m\n\u001b[1;32m     86\u001b[0m     \u001b[0mpred_para\u001b[0m \u001b[0;34m=\u001b[0m \u001b[0mscaled\u001b[0m\u001b[0;34m[\u001b[0m\u001b[0;34m-\u001b[0m\u001b[0;36m1\u001b[0m\u001b[0;34m]\u001b[0m\u001b[0;34m[\u001b[0m\u001b[0;36m8\u001b[0m\u001b[0;34m*\u001b[0m\u001b[0mstart\u001b[0m\u001b[0;34m:\u001b[0m\u001b[0;36m8\u001b[0m\u001b[0;34m*\u001b[0m\u001b[0;34m(\u001b[0m\u001b[0mstart\u001b[0m\u001b[0;34m+\u001b[0m\u001b[0mtime_steps\u001b[0m\u001b[0;34m)\u001b[0m\u001b[0;34m]\u001b[0m\u001b[0;34m\u001b[0m\u001b[0;34m\u001b[0m\u001b[0m\n\u001b[0;32m---> 87\u001b[0;31m     \u001b[0mpred_para\u001b[0m \u001b[0;34m=\u001b[0m \u001b[0mpred_para\u001b[0m\u001b[0;34m.\u001b[0m\u001b[0mreshape\u001b[0m\u001b[0;34m(\u001b[0m\u001b[0;36m1\u001b[0m\u001b[0;34m,\u001b[0m\u001b[0;36m10\u001b[0m\u001b[0;34m,\u001b[0m\u001b[0;36m8\u001b[0m\u001b[0;34m)\u001b[0m\u001b[0;34m\u001b[0m\u001b[0;34m\u001b[0m\u001b[0m\n\u001b[0m\u001b[1;32m     88\u001b[0m     \u001b[0;32mreturn\u001b[0m \u001b[0mpred_para\u001b[0m\u001b[0;34m\u001b[0m\u001b[0;34m\u001b[0m\u001b[0m\n\u001b[1;32m     89\u001b[0m \u001b[0;34m\u001b[0m\u001b[0m\n",
            "\u001b[0;31mValueError\u001b[0m: cannot reshape array of size 72 into shape (1,10,8)"
          ]
        }
      ]
    },
    {
      "metadata": {
        "id": "pf3_T262AVP5",
        "colab_type": "code",
        "colab": {}
      },
      "cell_type": "code",
      "source": [
        ""
      ],
      "execution_count": 0,
      "outputs": []
    }
  ]
}